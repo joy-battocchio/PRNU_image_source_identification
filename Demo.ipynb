{
 "cells": [
  {
   "cell_type": "code",
   "execution_count": 10,
   "id": "10c587e7",
   "metadata": {},
   "outputs": [],
   "source": [
    "from prnu_python.prnu import *\n",
    "\n",
    "import numpy as np\n",
    "from PIL import Image\n",
    "\n",
    "from cnn_fast_sdi.utility_dataset import load_prnu, load_res, preprocessing_function\n",
    "from cnn_fast_sdi.architectures import makeNetwork as make_network\n",
    "import matplotlib.pyplot as plt\n",
    "import os\n",
    "from os.path import join"
   ]
  },
  {
   "cell_type": "code",
   "execution_count": 12,
   "id": "a0c655d6",
   "metadata": {},
   "outputs": [],
   "source": [
    "def get_device(path, prnus, model):\n",
    "    im = Image.open(path)\n",
    "    im_arr = np.asarray(im)\n",
    "    \n",
    "    im_cut = cut_ctr(im_arr, (512, 512, 3))\n",
    "    noise_residual = extract_single(im_cut)\n",
    "    \n",
    "    res_processed = preprocessing_function(noise_residual)\n",
    "    res_processed = np.tile(res_processed[None, :, :], (num_dev, 1, 1))\n",
    "    data = np.stack((list_prnu, res_processed), -1)\n",
    "    \n",
    "    score = model.predict_on_batch(data)[:, 1]\n",
    "    pos = np.argmax(score)\n",
    "    \n",
    "    plt.imshow(im)\n",
    "    plt.show()\n",
    "    print(f\"The device that took the photo is {devices_names[pos]}\")\n",
    "    \n",
    "    return devices_names[pos]"
   ]
  },
  {
   "cell_type": "code",
   "execution_count": 5,
   "id": "c93e4645",
   "metadata": {},
   "outputs": [],
   "source": [
    "devices_names = ['Acer_AspireE5', 'Apple_MacBookAir2018', 'Apple_MacBookAir', \n",
    "                 'Apple_iPadAir3', 'Apple_iPhone11', 'Apple_iPhone13', \n",
    "                 'Apple_iPhoneX', 'Asus_VivoBookPro', 'HP_Laptop15', \n",
    "                 'Huawei_P20Lite', 'Redmi_Note7']"
   ]
  },
  {
   "cell_type": "code",
   "execution_count": 6,
   "id": "1cac397a",
   "metadata": {},
   "outputs": [],
   "source": [
    "list_dev_test = 'F01;F02;F03;F04;F05;F06;F07;F08;F09;F10;F11'\n",
    "list_dev = list_dev_test.split(';')\n",
    "\n",
    "crop_size = 512\n",
    "num_dev = len(list_dev)\n",
    "model_dir = 'cnn_fast_sdi/downloaded_pretrained_models/cropr512_Pcn'"
   ]
  },
  {
   "cell_type": "code",
   "execution_count": null,
   "id": "e5aecf4d",
   "metadata": {},
   "outputs": [],
   "source": [
    "# define the model used\n",
    "model = make_network(input_shape=(None, None, 2), base_network=\"Pcn\", num_classes=2,\n",
    "                     model_path=model_dir)"
   ]
  },
  {
   "cell_type": "code",
   "execution_count": null,
   "id": "f876739e",
   "metadata": {},
   "outputs": [],
   "source": [
    "print(\"Preparing test data loader\")\n",
    "# list with the device PRNUs\n",
    "list_prnu = [preprocessing_function(load_prnu(item, crop_size)) for item in list_dev]\n",
    "list_prnu = np.stack(list_prnu, 0)"
   ]
  },
  {
   "cell_type": "code",
   "execution_count": null,
   "id": "93d2bad6",
   "metadata": {},
   "outputs": [],
   "source": [
    "path = \"./shared/Telegram/\"\n",
    "files = os.listdir(path)\n",
    "\n",
    "correct = 0\n",
    "tot = 0\n",
    "\n",
    "for file in files:\n",
    "    if '.jpg' in file.lower():\n",
    "        name = get_device(join(path, file), list_prnu, model)\n",
    "        if name == \"Apple_iPhone13\":\n",
    "            correct += 1\n",
    "        tot += 1\n",
    "        print(\"=\"*50)\n",
    "\n",
    "print(f\"Accuracy: {100*correct/tot:.1f}%\")"
   ]
  },
  {
   "cell_type": "code",
   "execution_count": null,
   "id": "f9254d58",
   "metadata": {},
   "outputs": [],
   "source": []
  }
 ],
 "metadata": {
  "kernelspec": {
   "display_name": "Python 3",
   "language": "python",
   "name": "python3"
  },
  "language_info": {
   "codemirror_mode": {
    "name": "ipython",
    "version": 3
   },
   "file_extension": ".py",
   "mimetype": "text/x-python",
   "name": "python",
   "nbconvert_exporter": "python",
   "pygments_lexer": "ipython3",
   "version": "3.10.7 (main, Nov 24 2022, 19:45:47) [GCC 12.2.0]"
  },
  "vscode": {
   "interpreter": {
    "hash": "916dbcbb3f70747c44a77c7bcd40155683ae19c65e1c03b4aa3499c5328201f1"
   }
  }
 },
 "nbformat": 4,
 "nbformat_minor": 5
}
